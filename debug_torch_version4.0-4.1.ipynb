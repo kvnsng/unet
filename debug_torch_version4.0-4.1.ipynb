{
 "cells": [
  {
   "cell_type": "code",
   "execution_count": 1,
   "metadata": {},
   "outputs": [],
   "source": [
    "import torch"
   ]
  },
  {
   "cell_type": "code",
   "execution_count": 10,
   "metadata": {},
   "outputs": [],
   "source": [
    "model_path = './checkpoints/checkpoints_UNET_2class_64_DO20/epoch20.pth'"
   ]
  },
  {
   "cell_type": "code",
   "execution_count": 11,
   "metadata": {},
   "outputs": [],
   "source": [
    "checkpoint = torch.load(model_path)"
   ]
  },
  {
   "cell_type": "code",
   "execution_count": 12,
   "metadata": {},
   "outputs": [],
   "source": [
    "state_dict = checkpoint['state_dict']"
   ]
  },
  {
   "cell_type": "code",
   "execution_count": 13,
   "metadata": {},
   "outputs": [
    {
     "data": {
      "text/plain": [
       "odict_keys(['inconv.conv.conv.0.weight', 'inconv.conv.conv.0.bias', 'inconv.conv.conv.1.weight', 'inconv.conv.conv.1.bias', 'inconv.conv.conv.1.running_mean', 'inconv.conv.conv.1.running_var', 'inconv.conv.conv.1.num_batches_tracked', 'inconv.conv.conv.4.weight', 'inconv.conv.conv.4.bias', 'inconv.conv.conv.5.weight', 'inconv.conv.conv.5.bias', 'inconv.conv.conv.5.running_mean', 'inconv.conv.conv.5.running_var', 'inconv.conv.conv.5.num_batches_tracked', 'down1.mpconv.1.conv.0.weight', 'down1.mpconv.1.conv.0.bias', 'down1.mpconv.1.conv.1.weight', 'down1.mpconv.1.conv.1.bias', 'down1.mpconv.1.conv.1.running_mean', 'down1.mpconv.1.conv.1.running_var', 'down1.mpconv.1.conv.1.num_batches_tracked', 'down1.mpconv.1.conv.4.weight', 'down1.mpconv.1.conv.4.bias', 'down1.mpconv.1.conv.5.weight', 'down1.mpconv.1.conv.5.bias', 'down1.mpconv.1.conv.5.running_mean', 'down1.mpconv.1.conv.5.running_var', 'down1.mpconv.1.conv.5.num_batches_tracked', 'down2.mpconv.1.conv.0.weight', 'down2.mpconv.1.conv.0.bias', 'down2.mpconv.1.conv.1.weight', 'down2.mpconv.1.conv.1.bias', 'down2.mpconv.1.conv.1.running_mean', 'down2.mpconv.1.conv.1.running_var', 'down2.mpconv.1.conv.1.num_batches_tracked', 'down2.mpconv.1.conv.4.weight', 'down2.mpconv.1.conv.4.bias', 'down2.mpconv.1.conv.5.weight', 'down2.mpconv.1.conv.5.bias', 'down2.mpconv.1.conv.5.running_mean', 'down2.mpconv.1.conv.5.running_var', 'down2.mpconv.1.conv.5.num_batches_tracked', 'down3.mpconv.1.conv.0.weight', 'down3.mpconv.1.conv.0.bias', 'down3.mpconv.1.conv.1.weight', 'down3.mpconv.1.conv.1.bias', 'down3.mpconv.1.conv.1.running_mean', 'down3.mpconv.1.conv.1.running_var', 'down3.mpconv.1.conv.1.num_batches_tracked', 'down3.mpconv.1.conv.4.weight', 'down3.mpconv.1.conv.4.bias', 'down3.mpconv.1.conv.5.weight', 'down3.mpconv.1.conv.5.bias', 'down3.mpconv.1.conv.5.running_mean', 'down3.mpconv.1.conv.5.running_var', 'down3.mpconv.1.conv.5.num_batches_tracked', 'down4.mpconv.1.conv.0.weight', 'down4.mpconv.1.conv.0.bias', 'down4.mpconv.1.conv.1.weight', 'down4.mpconv.1.conv.1.bias', 'down4.mpconv.1.conv.1.running_mean', 'down4.mpconv.1.conv.1.running_var', 'down4.mpconv.1.conv.1.num_batches_tracked', 'down4.mpconv.1.conv.4.weight', 'down4.mpconv.1.conv.4.bias', 'down4.mpconv.1.conv.5.weight', 'down4.mpconv.1.conv.5.bias', 'down4.mpconv.1.conv.5.running_mean', 'down4.mpconv.1.conv.5.running_var', 'down4.mpconv.1.conv.5.num_batches_tracked', 'up1.conv.conv.0.weight', 'up1.conv.conv.0.bias', 'up1.conv.conv.1.weight', 'up1.conv.conv.1.bias', 'up1.conv.conv.1.running_mean', 'up1.conv.conv.1.running_var', 'up1.conv.conv.1.num_batches_tracked', 'up1.conv.conv.4.weight', 'up1.conv.conv.4.bias', 'up1.conv.conv.5.weight', 'up1.conv.conv.5.bias', 'up1.conv.conv.5.running_mean', 'up1.conv.conv.5.running_var', 'up1.conv.conv.5.num_batches_tracked', 'up2.conv.conv.0.weight', 'up2.conv.conv.0.bias', 'up2.conv.conv.1.weight', 'up2.conv.conv.1.bias', 'up2.conv.conv.1.running_mean', 'up2.conv.conv.1.running_var', 'up2.conv.conv.1.num_batches_tracked', 'up2.conv.conv.4.weight', 'up2.conv.conv.4.bias', 'up2.conv.conv.5.weight', 'up2.conv.conv.5.bias', 'up2.conv.conv.5.running_mean', 'up2.conv.conv.5.running_var', 'up2.conv.conv.5.num_batches_tracked', 'up3.conv.conv.0.weight', 'up3.conv.conv.0.bias', 'up3.conv.conv.1.weight', 'up3.conv.conv.1.bias', 'up3.conv.conv.1.running_mean', 'up3.conv.conv.1.running_var', 'up3.conv.conv.1.num_batches_tracked', 'up3.conv.conv.4.weight', 'up3.conv.conv.4.bias', 'up3.conv.conv.5.weight', 'up3.conv.conv.5.bias', 'up3.conv.conv.5.running_mean', 'up3.conv.conv.5.running_var', 'up3.conv.conv.5.num_batches_tracked', 'up4.conv.conv.0.weight', 'up4.conv.conv.0.bias', 'up4.conv.conv.1.weight', 'up4.conv.conv.1.bias', 'up4.conv.conv.1.running_mean', 'up4.conv.conv.1.running_var', 'up4.conv.conv.1.num_batches_tracked', 'up4.conv.conv.4.weight', 'up4.conv.conv.4.bias', 'up4.conv.conv.5.weight', 'up4.conv.conv.5.bias', 'up4.conv.conv.5.running_mean', 'up4.conv.conv.5.running_var', 'up4.conv.conv.5.num_batches_tracked', 'outconv.conv.weight', 'outconv.conv.bias'])"
      ]
     },
     "execution_count": 13,
     "metadata": {},
     "output_type": "execute_result"
    }
   ],
   "source": [
    "state_dict.keys()"
   ]
  },
  {
   "cell_type": "code",
   "execution_count": 14,
   "metadata": {},
   "outputs": [],
   "source": [
    "state_dict_new = {key:val for key, val in state_dict.items() if not key.endswith('num_batches_tracked')}"
   ]
  },
  {
   "cell_type": "code",
   "execution_count": 15,
   "metadata": {},
   "outputs": [
    {
     "data": {
      "text/plain": [
       "dict_keys(['inconv.conv.conv.0.weight', 'inconv.conv.conv.0.bias', 'inconv.conv.conv.1.weight', 'inconv.conv.conv.1.bias', 'inconv.conv.conv.1.running_mean', 'inconv.conv.conv.1.running_var', 'inconv.conv.conv.4.weight', 'inconv.conv.conv.4.bias', 'inconv.conv.conv.5.weight', 'inconv.conv.conv.5.bias', 'inconv.conv.conv.5.running_mean', 'inconv.conv.conv.5.running_var', 'down1.mpconv.1.conv.0.weight', 'down1.mpconv.1.conv.0.bias', 'down1.mpconv.1.conv.1.weight', 'down1.mpconv.1.conv.1.bias', 'down1.mpconv.1.conv.1.running_mean', 'down1.mpconv.1.conv.1.running_var', 'down1.mpconv.1.conv.4.weight', 'down1.mpconv.1.conv.4.bias', 'down1.mpconv.1.conv.5.weight', 'down1.mpconv.1.conv.5.bias', 'down1.mpconv.1.conv.5.running_mean', 'down1.mpconv.1.conv.5.running_var', 'down2.mpconv.1.conv.0.weight', 'down2.mpconv.1.conv.0.bias', 'down2.mpconv.1.conv.1.weight', 'down2.mpconv.1.conv.1.bias', 'down2.mpconv.1.conv.1.running_mean', 'down2.mpconv.1.conv.1.running_var', 'down2.mpconv.1.conv.4.weight', 'down2.mpconv.1.conv.4.bias', 'down2.mpconv.1.conv.5.weight', 'down2.mpconv.1.conv.5.bias', 'down2.mpconv.1.conv.5.running_mean', 'down2.mpconv.1.conv.5.running_var', 'down3.mpconv.1.conv.0.weight', 'down3.mpconv.1.conv.0.bias', 'down3.mpconv.1.conv.1.weight', 'down3.mpconv.1.conv.1.bias', 'down3.mpconv.1.conv.1.running_mean', 'down3.mpconv.1.conv.1.running_var', 'down3.mpconv.1.conv.4.weight', 'down3.mpconv.1.conv.4.bias', 'down3.mpconv.1.conv.5.weight', 'down3.mpconv.1.conv.5.bias', 'down3.mpconv.1.conv.5.running_mean', 'down3.mpconv.1.conv.5.running_var', 'down4.mpconv.1.conv.0.weight', 'down4.mpconv.1.conv.0.bias', 'down4.mpconv.1.conv.1.weight', 'down4.mpconv.1.conv.1.bias', 'down4.mpconv.1.conv.1.running_mean', 'down4.mpconv.1.conv.1.running_var', 'down4.mpconv.1.conv.4.weight', 'down4.mpconv.1.conv.4.bias', 'down4.mpconv.1.conv.5.weight', 'down4.mpconv.1.conv.5.bias', 'down4.mpconv.1.conv.5.running_mean', 'down4.mpconv.1.conv.5.running_var', 'up1.conv.conv.0.weight', 'up1.conv.conv.0.bias', 'up1.conv.conv.1.weight', 'up1.conv.conv.1.bias', 'up1.conv.conv.1.running_mean', 'up1.conv.conv.1.running_var', 'up1.conv.conv.4.weight', 'up1.conv.conv.4.bias', 'up1.conv.conv.5.weight', 'up1.conv.conv.5.bias', 'up1.conv.conv.5.running_mean', 'up1.conv.conv.5.running_var', 'up2.conv.conv.0.weight', 'up2.conv.conv.0.bias', 'up2.conv.conv.1.weight', 'up2.conv.conv.1.bias', 'up2.conv.conv.1.running_mean', 'up2.conv.conv.1.running_var', 'up2.conv.conv.4.weight', 'up2.conv.conv.4.bias', 'up2.conv.conv.5.weight', 'up2.conv.conv.5.bias', 'up2.conv.conv.5.running_mean', 'up2.conv.conv.5.running_var', 'up3.conv.conv.0.weight', 'up3.conv.conv.0.bias', 'up3.conv.conv.1.weight', 'up3.conv.conv.1.bias', 'up3.conv.conv.1.running_mean', 'up3.conv.conv.1.running_var', 'up3.conv.conv.4.weight', 'up3.conv.conv.4.bias', 'up3.conv.conv.5.weight', 'up3.conv.conv.5.bias', 'up3.conv.conv.5.running_mean', 'up3.conv.conv.5.running_var', 'up4.conv.conv.0.weight', 'up4.conv.conv.0.bias', 'up4.conv.conv.1.weight', 'up4.conv.conv.1.bias', 'up4.conv.conv.1.running_mean', 'up4.conv.conv.1.running_var', 'up4.conv.conv.4.weight', 'up4.conv.conv.4.bias', 'up4.conv.conv.5.weight', 'up4.conv.conv.5.bias', 'up4.conv.conv.5.running_mean', 'up4.conv.conv.5.running_var', 'outconv.conv.weight', 'outconv.conv.bias'])"
      ]
     },
     "execution_count": 15,
     "metadata": {},
     "output_type": "execute_result"
    }
   ],
   "source": [
    "state_dict_new.keys()"
   ]
  },
  {
   "cell_type": "code",
   "execution_count": 16,
   "metadata": {},
   "outputs": [],
   "source": [
    "checkpoint['state_dict'] = state_dict_new"
   ]
  },
  {
   "cell_type": "code",
   "execution_count": 17,
   "metadata": {},
   "outputs": [],
   "source": [
    "torch.save(checkpoint, './checkpoints/checkpoints_UNET_2class_64_DO20/epoch20_mod.pth')"
   ]
  },
  {
   "cell_type": "code",
   "execution_count": null,
   "metadata": {},
   "outputs": [],
   "source": []
  }
 ],
 "metadata": {
  "kernelspec": {
   "display_name": "Python [conda env:pytorch]",
   "language": "python",
   "name": "conda-env-pytorch-py"
  },
  "language_info": {
   "codemirror_mode": {
    "name": "ipython",
    "version": 3
   },
   "file_extension": ".py",
   "mimetype": "text/x-python",
   "name": "python",
   "nbconvert_exporter": "python",
   "pygments_lexer": "ipython3",
   "version": "3.6.4"
  }
 },
 "nbformat": 4,
 "nbformat_minor": 2
}
